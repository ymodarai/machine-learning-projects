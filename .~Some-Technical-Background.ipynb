{
 "cells": [
  {
   "cell_type": "code",
   "execution_count": null,
   "id": "22c53c82",
   "metadata": {},
   "outputs": [
    {
     "name": "stdout",
     "output_type": "stream",
     "text": [
      "Hello World\n"
     ]
    }
   ],
   "source": [
    "print(\"Hello World\")"
   ]
  },
  {
   "cell_type": "code",
   "execution_count": 10,
   "id": "dd7763d7",
   "metadata": {
    "scrolled": false
   },
   "outputs": [],
   "source": [
    "from mlwpy import *\n",
    "%matplotlib inline"
   ]
  },
  {
   "cell_type": "code",
   "execution_count": 11,
   "id": "24b825df",
   "metadata": {},
   "outputs": [
    {
     "data": {
      "text/plain": [
       "4"
      ]
     },
     "execution_count": 11,
     "metadata": {},
     "output_type": "execute_result"
    }
   ],
   "source": [
    "np.random.randint(1, 7)"
   ]
  },
  {
   "cell_type": "code",
   "execution_count": 12,
   "id": "9c40cdb8",
   "metadata": {},
   "outputs": [],
   "source": [
    "few_rolls  = np.random.randint(1, 7, size=10)\n",
    "many_rolls = np.random.randint(1, 7, size=1000)"
   ]
  },
  {
   "cell_type": "code",
   "execution_count": 13,
   "id": "8aa88bf5",
   "metadata": {},
   "outputs": [
    {
     "data": {
      "image/png": "[encoded data removed]",
      "text/plain": [
       "<Figure size 576x216 with 2 Axes>"
      ]
     },
     "metadata": {
      "needs_background": "light"
     },
     "output_type": "display_data"
    }
   ],
   "source": [
    "few_counts = np.histogram(few_rolls, bins=np.arange(0.5, 7.5))[0]\n",
    "many_counts = np.histogram(many_rolls, bins=np.arange(0.5, 7.5))[0]\n",
    "\n",
    "fig, (ax1, ax2) = plt.subplots(1,2, figsize= (8,3))\n",
    "ax1.bar(np.arange(1,7), few_counts)\n",
    "ax2.bar(np.arange(1,7), many_counts);"
   ]
  },
  {
   "cell_type": "code",
   "execution_count": 14,
   "id": "d8d210da",
   "metadata": {},
   "outputs": [
    {
     "data": {
      "image/png": "[encoded data removed]",
      "text/plain": [
       "<Figure size 432x288 with 1 Axes>"
      ]
     },
     "metadata": {
      "needs_background": "light"
     },
     "output_type": "display_data"
    }
   ],
   "source": [
    "import scipy.stats as ss\n",
    "\n",
    "b=ss.distributions.binom\n",
    "for flips in [5, 10, 20, 40, 80]:\n",
    "    #binomial with 0.5 is result of many coin flips\n",
    "    success = np.arange(flips)\n",
    "    our_distribution = b.pmf(success, flips, 0.5)\n",
    "    plt.hist(success, flips, weights = our_distribution)\n",
    "plt.xlim(0, 55);"
   ]
  },
  {
   "cell_type": "code",
   "execution_count": null,
   "id": "65b8fc01",
   "metadata": {},
   "outputs": [],
   "source": [
    "people = np.arange(1,11)\n",
    "total_cost = np.ones_like(people) * 40.0\n",
    "\n",
    "ax = plt.gca()\n",
    "ax.plot(people, total_cost)"
   ]
  }
 ],
 "metadata": {
  "kernelspec": {
   "display_name": "Python 3",
   "language": "python",
   "name": "python3"
  },
  "language_info": {
   "codemirror_mode": {
    "name": "ipython",
    "version": 3
   },
   "file_extension": ".py",
   "mimetype": "text/x-python",
   "name": "python",
   "nbconvert_exporter": "python",
   "pygments_lexer": "ipython3",
   "version": "3.11.1"
  },
  "vscode": {
   "interpreter": {
    "hash": "ee3e3c961320053dcf2e8e8826e7fd037c87f04e2be9b725e1036ee73dd28a53"
   }
  }
 },
 "nbformat": 4,
 "nbformat_minor": 5
}
